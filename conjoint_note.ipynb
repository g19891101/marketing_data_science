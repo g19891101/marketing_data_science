{
 "cells": [
  {
   "cell_type": "code",
   "execution_count": 20,
   "metadata": {
    "collapsed": false
   },
   "outputs": [
    {
     "name": "stdout",
     "output_type": "stream",
     "text": [
      "                            OLS Regression Results                            \n",
      "==============================================================================\n",
      "Dep. Variable:                ranking   R-squared:                       0.999\n",
      "Model:                            OLS   Adj. R-squared:                  0.989\n",
      "Method:                 Least Squares   F-statistic:                     97.07\n",
      "Date:                Tue, 22 Nov 2016   Prob (F-statistic):             0.0794\n",
      "Time:                        13:35:26   Log-Likelihood:                 10.568\n",
      "No. Observations:                  16   AIC:                             8.864\n",
      "Df Residuals:                       1   BIC:                             20.45\n",
      "Df Model:                          14                                         \n",
      "Covariance Type:            nonrobust                                         \n",
      "===================================================================================================\n",
      "                                      coef    std err          t      P>|t|      [95.0% Conf. Int.]\n",
      "---------------------------------------------------------------------------------------------------\n",
      "Intercept                           8.5000      0.125     68.000      0.009         6.912    10.088\n",
      "C(brand, Sum)[S.\"AT&T\"]          2.776e-17      0.217   1.28e-16      1.000        -2.751     2.751\n",
      "C(brand, Sum)[S.\"T-Mobile\"]        -0.2500      0.217     -1.155      0.454        -3.001     2.501\n",
      "C(brand, Sum)[S.\"US Cellular\"]  -4.823e-15      0.217  -2.23e-14      1.000        -2.751     2.751\n",
      "C(startup, Sum)[S.\"$100\"]           0.7500      0.217      3.464      0.179        -2.001     3.501\n",
      "C(startup, Sum)[S.\"$200\"]        -2.37e-14      0.217  -1.09e-13      1.000        -2.751     2.751\n",
      "C(startup, Sum)[S.\"$300\"]        4.906e-15      0.217   2.27e-14      1.000        -2.751     2.751\n",
      "C(monthly, Sum)[S.\"$100\"]           5.0000      0.217     23.094      0.028         2.249     7.751\n",
      "C(monthly, Sum)[S.\"$200\"]           2.0000      0.217      9.238      0.069        -0.751     4.751\n",
      "C(monthly, Sum)[S.\"$300\"]          -1.2500      0.217     -5.774      0.109        -4.001     1.501\n",
      "C(service, Sum)[S.\"4G NO\"]         -1.7500      0.125    -14.000      0.045        -3.338    -0.162\n",
      "C(retail, Sum)[S.\"Retail NO\"]       0.2500      0.125      2.000      0.295        -1.338     1.838\n",
      "C(apple, Sum)[S.\"Apple NO\"]         0.2500      0.125      2.000      0.295        -1.338     1.838\n",
      "C(samsung, Sum)[S.\"Samsung NO\"]    -1.1250      0.125     -9.000      0.070        -2.713     0.463\n",
      "C(google, Sum)[S.\"Nexus NO\"]       -0.7500      0.125     -6.000      0.105        -2.338     0.838\n",
      "==============================================================================\n",
      "Omnibus:                       29.718   Durbin-Watson:                   2.000\n",
      "Prob(Omnibus):                  0.000   Jarque-Bera (JB):                2.667\n",
      "Skew:                           0.000   Prob(JB):                        0.264\n",
      "Kurtosis:                       1.000   Cond. No.                         2.00\n",
      "==============================================================================\n",
      "\n",
      "Warnings:\n",
      "[1] Standard Errors assume that the covariance matrix of the errors is correctly specified.\n"
     ]
    },
    {
     "name": "stderr",
     "output_type": "stream",
     "text": [
      "/usr/local/lib/python3.5/dist-packages/scipy/stats/stats.py:1327: UserWarning: kurtosistest only valid for n>=20 ... continuing anyway, n=16\n",
      "  \"anyway, n=%i\" % int(n))\n"
     ]
    }
   ],
   "source": [
    "import pandas as pd\n",
    "import numpy as np\n",
    "import statsmodels.api as sm\n",
    "import statsmodels.formula.api as smf\n",
    "from patsy.contrasts import Sum\n",
    "conjoint_data_fram = pd.read_csv('mobile_services_ranking.csv')\n",
    "\n",
    "main_effects_model = 'ranking ~ C(brand, Sum) + C(startup, Sum) + C(monthly, Sum) + \\\n",
    "    C(service, Sum) + C(retail, Sum) + C(apple, Sum) + C(samsung, Sum) + C(google, Sum)'\n",
    "#回歸設定 ranking 對 "~" 後面的所有因子一起回歸 c(brand,sum) 這裡指資料中 barnd 被給予level的評定後的總level平均值 跟各個 brand 的 level 對比\n",
    "main_effects_model_fit = smf.ols(main_effects_model, data = conjoint_data_fram).fit()\n",
    "#ols 指的是 ordinary least squares 普通最小平方法 為估計迴歸係數最常用的方法\n",
    "print(main_effects_model_fit.summary())\n"
   ]
  },
  {
   "cell_type": "code",
   "execution_count": 23,
   "metadata": {
    "collapsed": false
   },
   "outputs": [],
   "source": [
    "conjoint_attributes = ['brand', 'startup', 'monthly', 'service', 'retail', 'apple', 'samsung', 'google']\n",
    "level_name = []\n",
    "part_worth = []\n",
    "part_worth_range = []\n",
    "end = 1\n",
    "for item in conjoint_attributes:\n",
    "    nlevels = len(list(np.unique(conjoint_data_fram[item])))  #unique() 相當於 set()\n",
    "    level_name.append(list(np.unique(conjoint_data_fram[item])))\n",
    "    begin = end\n",
    "    end = begin + nlevels -1\n",
    "    new_part_worth = list(main_effects_model_fit.params[begin:end])\n",
    "    new_part_worth.append((-1) * sum(new_part_worth))\n",
    "    part_worth_range.append(max(new_part_worth) - min(new_part_worth))\n",
    "    part_worth.append(new_part_worth)"
   ]
  },
  {
   "cell_type": "code",
   "execution_count": 25,
   "metadata": {
    "collapsed": false
   },
   "outputs": [],
   "source": [
    "attribute_importance = []\n",
    "for item in part_worth_range:\n",
    "    attribute_importance.append(round(100 * (item / sum(part_worth_range)),2))"
   ]
  },
  {
   "cell_type": "code",
   "execution_count": 29,
   "metadata": {
    "collapsed": false
   },
   "outputs": [
    {
     "name": "stdout",
     "output_type": "stream",
     "text": [
      "\n",
      "Attribute: Mobile Service Provider\n",
      "    Importance: 2.38\n",
      "    Level Part-Worths\n",
      "        \"AT&T\" 2.77555756156e-17\n",
      "        \"T-Mobile\" -0.25\n",
      "        \"US Cellular\" -4.82253126322e-15\n",
      "        \"Verizon\" 0.25\n",
      "\n",
      "Attribute: Start-up Cost\n",
      "    Importance: 7.14\n",
      "    Level Part-Worths\n",
      "        \"$100\" 0.75\n",
      "        \"$200\" -2.37032615757e-14\n",
      "        \"$300\" 4.90579799006e-15\n",
      "        \"$400\" -0.75\n",
      "\n",
      "Attribute: Monthky Cost\n",
      "    Importance: 51.19\n",
      "    Level Part-Worths\n",
      "        \"$100\" 5.0\n",
      "        \"$200\" 2.0\n",
      "        \"$300\" -1.25\n",
      "        \"$400\" -5.75\n",
      "\n",
      "Attribute: Offers 4G Service\n",
      "    Importance: 16.67\n",
      "    Level Part-Worths\n",
      "        \"4G NO\" -1.75\n",
      "        \"4G YES\" 1.75\n",
      "\n",
      "Attribute: Has Nearby Retail Store\n",
      "    Importance: 2.38\n",
      "    Level Part-Worths\n",
      "        \"Retail NO\" 0.25\n",
      "        \"Retail YES\" -0.25\n",
      "\n",
      "Attribute: Sells Apple Products\n",
      "    Importance: 2.38\n",
      "    Level Part-Worths\n",
      "        \"Apple NO\" 0.25\n",
      "        \"Apple YES\" -0.25\n",
      "\n",
      "Attribute: Sells Samsung Products\n",
      "    Importance: 10.71\n",
      "    Level Part-Worths\n",
      "        \"Samsung NO\" -1.125\n",
      "        \"Samsung YES\" 1.125\n",
      "\n",
      "Attribute: Sells Google/Nexus Products\n",
      "    Importance: 7.14\n",
      "    Level Part-Worths\n",
      "        \"Nexus NO\" -0.75\n",
      "        \"Nexus YES\" 0.75\n"
     ]
    }
   ],
   "source": [
    "effect_name_dict = {'brand' : 'Mobile Service Provider', 'startup' : 'Start-up Cost',\\\n",
    "                   'monthly' : 'Monthky Cost', 'service' : 'Offers 4G Service',\\\n",
    "                   'retail' : 'Has Nearby Retail Store', 'apple' : 'Sells Apple Products',\\\n",
    "                   'samsung' : 'Sells Samsung Products', 'google' : 'Sells Google/Nexus Products'}\n",
    "index = 0\n",
    "for item in conjoint_attributes:\n",
    "    print('\\nAttribute:', effect_name_dict[item])\n",
    "    print('    Importance:', attribute_importance[index])\n",
    "    print('    Level Part-Worths')\n",
    "    for level in range(len(level_name[index])):\n",
    "        print('       ',level_name[index][level], part_worth[index][level])\n",
    "    index = index+1"
   ]
  }
 ],
 "metadata": {
  "kernelspec": {
   "display_name": "Python 3",
   "language": "python",
   "name": "python3"
  },
  "language_info": {
   "codemirror_mode": {
    "name": "ipython",
    "version": 3
   },
   "file_extension": ".py",
   "mimetype": "text/x-python",
   "name": "python",
   "nbconvert_exporter": "python",
   "pygments_lexer": "ipython3",
   "version": "3.5.2"
  }
 },
 "nbformat": 4,
 "nbformat_minor": 1
}
